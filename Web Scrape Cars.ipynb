{
 "cells": [
  {
   "cell_type": "code",
   "execution_count": 1,
   "id": "d3582035",
   "metadata": {},
   "outputs": [],
   "source": [
    "import csv \n",
    "from bs4 import BeautifulSoup\n",
    "from selenium import webdriver\n",
    "from selenium.webdriver.common.by import By\n",
    "from msedge.selenium_tools import Edge, EdgeOptions"
   ]
  },
  {
   "cell_type": "code",
   "execution_count": 2,
   "id": "a109067e",
   "metadata": {},
   "outputs": [
    {
     "name": "stderr",
     "output_type": "stream",
     "text": [
      "C:\\Users\\shubh\\AppData\\Local\\Temp\\ipykernel_2604\\1829379396.py:3: DeprecationWarning: Selenium Tools for Microsoft Edge is deprecated. Please upgrade to Selenium 4 which has built-in support for Microsoft Edge (Chromium): https://docs.microsoft.com/en-us/microsoft-edge/webdriver-chromium/#upgrading-from-selenium-3\n",
      "  driver = Edge(options=options)\n",
      "c:\\users\\shubh\\appdata\\local\\programs\\python\\python38\\lib\\site-packages\\msedge\\selenium_tools\\webdriver.py:73: SyntaxWarning: \"is\" with a literal. Did you mean \"==\"?\n",
      "  if executable_path is '':\n",
      "c:\\users\\shubh\\appdata\\local\\programs\\python\\python38\\lib\\site-packages\\msedge\\selenium_tools\\webdriver.py:73: SyntaxWarning: \"is\" with a literal. Did you mean \"==\"?\n",
      "  if executable_path is '':\n"
     ]
    },
    {
     "ename": "WebDriverException",
     "evalue": "Message: 'msedgedriver' executable needs to be in PATH. Please download from http://go.microsoft.com/fwlink/?LinkId=619687\n",
     "output_type": "error",
     "traceback": [
      "\u001b[1;31m---------------------------------------------------------------------------\u001b[0m",
      "\u001b[1;31mFileNotFoundError\u001b[0m                         Traceback (most recent call last)",
      "File \u001b[1;32mc:\\users\\shubh\\appdata\\local\\programs\\python\\python38\\lib\\site-packages\\selenium\\webdriver\\common\\service.py:72\u001b[0m, in \u001b[0;36mService.start\u001b[1;34m(self)\u001b[0m\n\u001b[0;32m     71\u001b[0m     cmd\u001b[38;5;241m.\u001b[39mextend(\u001b[38;5;28mself\u001b[39m\u001b[38;5;241m.\u001b[39mcommand_line_args())\n\u001b[1;32m---> 72\u001b[0m     \u001b[38;5;28mself\u001b[39m\u001b[38;5;241m.\u001b[39mprocess \u001b[38;5;241m=\u001b[39m \u001b[43msubprocess\u001b[49m\u001b[38;5;241;43m.\u001b[39;49m\u001b[43mPopen\u001b[49m\u001b[43m(\u001b[49m\u001b[43mcmd\u001b[49m\u001b[43m,\u001b[49m\u001b[43m \u001b[49m\u001b[43menv\u001b[49m\u001b[38;5;241;43m=\u001b[39;49m\u001b[38;5;28;43mself\u001b[39;49m\u001b[38;5;241;43m.\u001b[39;49m\u001b[43menv\u001b[49m\u001b[43m,\u001b[49m\n\u001b[0;32m     73\u001b[0m \u001b[43m                                    \u001b[49m\u001b[43mclose_fds\u001b[49m\u001b[38;5;241;43m=\u001b[39;49m\u001b[43mplatform\u001b[49m\u001b[38;5;241;43m.\u001b[39;49m\u001b[43msystem\u001b[49m\u001b[43m(\u001b[49m\u001b[43m)\u001b[49m\u001b[43m \u001b[49m\u001b[38;5;241;43m!=\u001b[39;49m\u001b[43m \u001b[49m\u001b[38;5;124;43m'\u001b[39;49m\u001b[38;5;124;43mWindows\u001b[39;49m\u001b[38;5;124;43m'\u001b[39;49m\u001b[43m,\u001b[49m\n\u001b[0;32m     74\u001b[0m \u001b[43m                                    \u001b[49m\u001b[43mstdout\u001b[49m\u001b[38;5;241;43m=\u001b[39;49m\u001b[38;5;28;43mself\u001b[39;49m\u001b[38;5;241;43m.\u001b[39;49m\u001b[43mlog_file\u001b[49m\u001b[43m,\u001b[49m\n\u001b[0;32m     75\u001b[0m \u001b[43m                                    \u001b[49m\u001b[43mstderr\u001b[49m\u001b[38;5;241;43m=\u001b[39;49m\u001b[38;5;28;43mself\u001b[39;49m\u001b[38;5;241;43m.\u001b[39;49m\u001b[43mlog_file\u001b[49m\u001b[43m,\u001b[49m\n\u001b[0;32m     76\u001b[0m \u001b[43m                                    \u001b[49m\u001b[43mstdin\u001b[49m\u001b[38;5;241;43m=\u001b[39;49m\u001b[43mPIPE\u001b[49m\u001b[43m)\u001b[49m\n\u001b[0;32m     77\u001b[0m \u001b[38;5;28;01mexcept\u001b[39;00m \u001b[38;5;167;01mTypeError\u001b[39;00m:\n",
      "File \u001b[1;32mc:\\users\\shubh\\appdata\\local\\programs\\python\\python38\\lib\\subprocess.py:854\u001b[0m, in \u001b[0;36mPopen.__init__\u001b[1;34m(self, args, bufsize, executable, stdin, stdout, stderr, preexec_fn, close_fds, shell, cwd, env, universal_newlines, startupinfo, creationflags, restore_signals, start_new_session, pass_fds, encoding, errors, text)\u001b[0m\n\u001b[0;32m    851\u001b[0m             \u001b[38;5;28mself\u001b[39m\u001b[38;5;241m.\u001b[39mstderr \u001b[38;5;241m=\u001b[39m io\u001b[38;5;241m.\u001b[39mTextIOWrapper(\u001b[38;5;28mself\u001b[39m\u001b[38;5;241m.\u001b[39mstderr,\n\u001b[0;32m    852\u001b[0m                     encoding\u001b[38;5;241m=\u001b[39mencoding, errors\u001b[38;5;241m=\u001b[39merrors)\n\u001b[1;32m--> 854\u001b[0m     \u001b[38;5;28;43mself\u001b[39;49m\u001b[38;5;241;43m.\u001b[39;49m\u001b[43m_execute_child\u001b[49m\u001b[43m(\u001b[49m\u001b[43margs\u001b[49m\u001b[43m,\u001b[49m\u001b[43m \u001b[49m\u001b[43mexecutable\u001b[49m\u001b[43m,\u001b[49m\u001b[43m \u001b[49m\u001b[43mpreexec_fn\u001b[49m\u001b[43m,\u001b[49m\u001b[43m \u001b[49m\u001b[43mclose_fds\u001b[49m\u001b[43m,\u001b[49m\n\u001b[0;32m    855\u001b[0m \u001b[43m                        \u001b[49m\u001b[43mpass_fds\u001b[49m\u001b[43m,\u001b[49m\u001b[43m \u001b[49m\u001b[43mcwd\u001b[49m\u001b[43m,\u001b[49m\u001b[43m \u001b[49m\u001b[43menv\u001b[49m\u001b[43m,\u001b[49m\n\u001b[0;32m    856\u001b[0m \u001b[43m                        \u001b[49m\u001b[43mstartupinfo\u001b[49m\u001b[43m,\u001b[49m\u001b[43m \u001b[49m\u001b[43mcreationflags\u001b[49m\u001b[43m,\u001b[49m\u001b[43m \u001b[49m\u001b[43mshell\u001b[49m\u001b[43m,\u001b[49m\n\u001b[0;32m    857\u001b[0m \u001b[43m                        \u001b[49m\u001b[43mp2cread\u001b[49m\u001b[43m,\u001b[49m\u001b[43m \u001b[49m\u001b[43mp2cwrite\u001b[49m\u001b[43m,\u001b[49m\n\u001b[0;32m    858\u001b[0m \u001b[43m                        \u001b[49m\u001b[43mc2pread\u001b[49m\u001b[43m,\u001b[49m\u001b[43m \u001b[49m\u001b[43mc2pwrite\u001b[49m\u001b[43m,\u001b[49m\n\u001b[0;32m    859\u001b[0m \u001b[43m                        \u001b[49m\u001b[43merrread\u001b[49m\u001b[43m,\u001b[49m\u001b[43m \u001b[49m\u001b[43merrwrite\u001b[49m\u001b[43m,\u001b[49m\n\u001b[0;32m    860\u001b[0m \u001b[43m                        \u001b[49m\u001b[43mrestore_signals\u001b[49m\u001b[43m,\u001b[49m\u001b[43m \u001b[49m\u001b[43mstart_new_session\u001b[49m\u001b[43m)\u001b[49m\n\u001b[0;32m    861\u001b[0m \u001b[38;5;28;01mexcept\u001b[39;00m:\n\u001b[0;32m    862\u001b[0m     \u001b[38;5;66;03m# Cleanup if the child failed starting.\u001b[39;00m\n",
      "File \u001b[1;32mc:\\users\\shubh\\appdata\\local\\programs\\python\\python38\\lib\\subprocess.py:1307\u001b[0m, in \u001b[0;36mPopen._execute_child\u001b[1;34m(self, args, executable, preexec_fn, close_fds, pass_fds, cwd, env, startupinfo, creationflags, shell, p2cread, p2cwrite, c2pread, c2pwrite, errread, errwrite, unused_restore_signals, unused_start_new_session)\u001b[0m\n\u001b[0;32m   1306\u001b[0m \u001b[38;5;28;01mtry\u001b[39;00m:\n\u001b[1;32m-> 1307\u001b[0m     hp, ht, pid, tid \u001b[38;5;241m=\u001b[39m \u001b[43m_winapi\u001b[49m\u001b[38;5;241;43m.\u001b[39;49m\u001b[43mCreateProcess\u001b[49m\u001b[43m(\u001b[49m\u001b[43mexecutable\u001b[49m\u001b[43m,\u001b[49m\u001b[43m \u001b[49m\u001b[43margs\u001b[49m\u001b[43m,\u001b[49m\n\u001b[0;32m   1308\u001b[0m \u001b[43m                             \u001b[49m\u001b[38;5;66;43;03m# no special security\u001b[39;49;00m\n\u001b[0;32m   1309\u001b[0m \u001b[43m                             \u001b[49m\u001b[38;5;28;43;01mNone\u001b[39;49;00m\u001b[43m,\u001b[49m\u001b[43m \u001b[49m\u001b[38;5;28;43;01mNone\u001b[39;49;00m\u001b[43m,\u001b[49m\n\u001b[0;32m   1310\u001b[0m \u001b[43m                             \u001b[49m\u001b[38;5;28;43mint\u001b[39;49m\u001b[43m(\u001b[49m\u001b[38;5;129;43;01mnot\u001b[39;49;00m\u001b[43m \u001b[49m\u001b[43mclose_fds\u001b[49m\u001b[43m)\u001b[49m\u001b[43m,\u001b[49m\n\u001b[0;32m   1311\u001b[0m \u001b[43m                             \u001b[49m\u001b[43mcreationflags\u001b[49m\u001b[43m,\u001b[49m\n\u001b[0;32m   1312\u001b[0m \u001b[43m                             \u001b[49m\u001b[43menv\u001b[49m\u001b[43m,\u001b[49m\n\u001b[0;32m   1313\u001b[0m \u001b[43m                             \u001b[49m\u001b[43mcwd\u001b[49m\u001b[43m,\u001b[49m\n\u001b[0;32m   1314\u001b[0m \u001b[43m                             \u001b[49m\u001b[43mstartupinfo\u001b[49m\u001b[43m)\u001b[49m\n\u001b[0;32m   1315\u001b[0m \u001b[38;5;28;01mfinally\u001b[39;00m:\n\u001b[0;32m   1316\u001b[0m     \u001b[38;5;66;03m# Child is launched. Close the parent's copy of those pipe\u001b[39;00m\n\u001b[0;32m   1317\u001b[0m     \u001b[38;5;66;03m# handles that only the child should have open.  You need\u001b[39;00m\n\u001b[1;32m   (...)\u001b[0m\n\u001b[0;32m   1320\u001b[0m     \u001b[38;5;66;03m# pipe will not close when the child process exits and the\u001b[39;00m\n\u001b[0;32m   1321\u001b[0m     \u001b[38;5;66;03m# ReadFile will hang.\u001b[39;00m\n",
      "\u001b[1;31mFileNotFoundError\u001b[0m: [WinError 2] The system cannot find the file specified",
      "\nDuring handling of the above exception, another exception occurred:\n",
      "\u001b[1;31mWebDriverException\u001b[0m                        Traceback (most recent call last)",
      "Cell \u001b[1;32mIn [2], line 3\u001b[0m\n\u001b[0;32m      1\u001b[0m options  \u001b[38;5;241m=\u001b[39m EdgeOptions()\n\u001b[0;32m      2\u001b[0m options\u001b[38;5;241m.\u001b[39muse_chromium \u001b[38;5;241m=\u001b[39m \u001b[38;5;28;01mTrue\u001b[39;00m\n\u001b[1;32m----> 3\u001b[0m driver \u001b[38;5;241m=\u001b[39m \u001b[43mEdge\u001b[49m\u001b[43m(\u001b[49m\u001b[43moptions\u001b[49m\u001b[38;5;241;43m=\u001b[39;49m\u001b[43moptions\u001b[49m\u001b[43m)\u001b[49m\n",
      "File \u001b[1;32mc:\\users\\shubh\\appdata\\local\\programs\\python\\python38\\lib\\site-packages\\msedge\\selenium_tools\\webdriver.py:104\u001b[0m, in \u001b[0;36mWebDriver.__init__\u001b[1;34m(self, executable_path, capabilities, port, verbose, service_log_path, log_path, keep_alive, desired_capabilities, service_args, options)\u001b[0m\n\u001b[0;32m     96\u001b[0m \u001b[38;5;28mself\u001b[39m\u001b[38;5;241m.\u001b[39mport \u001b[38;5;241m=\u001b[39m port\n\u001b[0;32m     98\u001b[0m \u001b[38;5;28mself\u001b[39m\u001b[38;5;241m.\u001b[39mservice \u001b[38;5;241m=\u001b[39m Service(\n\u001b[0;32m     99\u001b[0m         executable_path,\n\u001b[0;32m    100\u001b[0m         port\u001b[38;5;241m=\u001b[39m\u001b[38;5;28mself\u001b[39m\u001b[38;5;241m.\u001b[39mport,\n\u001b[0;32m    101\u001b[0m         verbose\u001b[38;5;241m=\u001b[39mverbose,\n\u001b[0;32m    102\u001b[0m         service_args\u001b[38;5;241m=\u001b[39mservice_args,\n\u001b[0;32m    103\u001b[0m         log_path\u001b[38;5;241m=\u001b[39mservice_log_path)\n\u001b[1;32m--> 104\u001b[0m \u001b[38;5;28;43mself\u001b[39;49m\u001b[38;5;241;43m.\u001b[39;49m\u001b[43mservice\u001b[49m\u001b[38;5;241;43m.\u001b[39;49m\u001b[43mstart\u001b[49m\u001b[43m(\u001b[49m\u001b[43m)\u001b[49m\n\u001b[0;32m    106\u001b[0m \u001b[38;5;28;01mtry\u001b[39;00m:\n\u001b[0;32m    107\u001b[0m     RemoteWebDriver\u001b[38;5;241m.\u001b[39m\u001b[38;5;21m__init__\u001b[39m(\n\u001b[0;32m    108\u001b[0m         \u001b[38;5;28mself\u001b[39m,\n\u001b[0;32m    109\u001b[0m         command_executor \u001b[38;5;241m=\u001b[39m EdgeRemoteConnection(\n\u001b[0;32m    110\u001b[0m         remote_server_addr\u001b[38;5;241m=\u001b[39m\u001b[38;5;28mself\u001b[39m\u001b[38;5;241m.\u001b[39mservice\u001b[38;5;241m.\u001b[39mservice_url,\n\u001b[0;32m    111\u001b[0m         keep_alive\u001b[38;5;241m=\u001b[39mkeep_alive),\n\u001b[0;32m    112\u001b[0m         desired_capabilities\u001b[38;5;241m=\u001b[39mdesired_capabilities)\n",
      "File \u001b[1;32mc:\\users\\shubh\\appdata\\local\\programs\\python\\python38\\lib\\site-packages\\selenium\\webdriver\\common\\service.py:81\u001b[0m, in \u001b[0;36mService.start\u001b[1;34m(self)\u001b[0m\n\u001b[0;32m     79\u001b[0m \u001b[38;5;28;01mexcept\u001b[39;00m \u001b[38;5;167;01mOSError\u001b[39;00m \u001b[38;5;28;01mas\u001b[39;00m err:\n\u001b[0;32m     80\u001b[0m     \u001b[38;5;28;01mif\u001b[39;00m err\u001b[38;5;241m.\u001b[39merrno \u001b[38;5;241m==\u001b[39m errno\u001b[38;5;241m.\u001b[39mENOENT:\n\u001b[1;32m---> 81\u001b[0m         \u001b[38;5;28;01mraise\u001b[39;00m WebDriverException(\n\u001b[0;32m     82\u001b[0m             \u001b[38;5;124m\"\u001b[39m\u001b[38;5;124m'\u001b[39m\u001b[38;5;132;01m%s\u001b[39;00m\u001b[38;5;124m'\u001b[39m\u001b[38;5;124m executable needs to be in PATH. \u001b[39m\u001b[38;5;132;01m%s\u001b[39;00m\u001b[38;5;124m\"\u001b[39m \u001b[38;5;241m%\u001b[39m (\n\u001b[0;32m     83\u001b[0m                 os\u001b[38;5;241m.\u001b[39mpath\u001b[38;5;241m.\u001b[39mbasename(\u001b[38;5;28mself\u001b[39m\u001b[38;5;241m.\u001b[39mpath), \u001b[38;5;28mself\u001b[39m\u001b[38;5;241m.\u001b[39mstart_error_message)\n\u001b[0;32m     84\u001b[0m         )\n\u001b[0;32m     85\u001b[0m     \u001b[38;5;28;01melif\u001b[39;00m err\u001b[38;5;241m.\u001b[39merrno \u001b[38;5;241m==\u001b[39m errno\u001b[38;5;241m.\u001b[39mEACCES:\n\u001b[0;32m     86\u001b[0m         \u001b[38;5;28;01mraise\u001b[39;00m WebDriverException(\n\u001b[0;32m     87\u001b[0m             \u001b[38;5;124m\"\u001b[39m\u001b[38;5;124m'\u001b[39m\u001b[38;5;132;01m%s\u001b[39;00m\u001b[38;5;124m'\u001b[39m\u001b[38;5;124m executable may have wrong permissions. \u001b[39m\u001b[38;5;132;01m%s\u001b[39;00m\u001b[38;5;124m\"\u001b[39m \u001b[38;5;241m%\u001b[39m (\n\u001b[0;32m     88\u001b[0m                 os\u001b[38;5;241m.\u001b[39mpath\u001b[38;5;241m.\u001b[39mbasename(\u001b[38;5;28mself\u001b[39m\u001b[38;5;241m.\u001b[39mpath), \u001b[38;5;28mself\u001b[39m\u001b[38;5;241m.\u001b[39mstart_error_message)\n\u001b[0;32m     89\u001b[0m         )\n",
      "\u001b[1;31mWebDriverException\u001b[0m: Message: 'msedgedriver' executable needs to be in PATH. Please download from http://go.microsoft.com/fwlink/?LinkId=619687\n"
     ]
    }
   ],
   "source": [
    "options  = EdgeOptions()\n",
    "options.use_chromium = True\n",
    "driver = Edge(options=options)"
   ]
  },
  {
   "cell_type": "code",
   "execution_count": 225,
   "id": "13b24460",
   "metadata": {},
   "outputs": [],
   "source": [
    "driver.get(\"https://www.carwale.com/used/cars-for-sale/#sc=-1&so=-1&pn=1\")"
   ]
  },
  {
   "cell_type": "code",
   "execution_count": 227,
   "id": "72f443a9",
   "metadata": {},
   "outputs": [],
   "source": [
    "driver.find_element(By.ID,\"closeLocIcon\").click()"
   ]
  },
  {
   "cell_type": "code",
   "execution_count": 228,
   "id": "900be9bd",
   "metadata": {},
   "outputs": [],
   "source": [
    "soup = BeautifulSoup(driver.page_source,'html.parser')"
   ]
  },
  {
   "cell_type": "code",
   "execution_count": 229,
   "id": "f5c1e55f",
   "metadata": {},
   "outputs": [],
   "source": [
    "car1 = soup.find('li',{'rank':'1'})"
   ]
  },
  {
   "cell_type": "code",
   "execution_count": 230,
   "id": "68f7c050",
   "metadata": {},
   "outputs": [],
   "source": [
    "a = car1.find('a',{'class':'car-item__image-link'})"
   ]
  },
  {
   "cell_type": "code",
   "execution_count": 231,
   "id": "e81c1de2",
   "metadata": {},
   "outputs": [],
   "source": [
    "link = \"https://www.carwale.com\"+a.get('href')"
   ]
  },
  {
   "cell_type": "code",
   "execution_count": 232,
   "id": "24d0d6e7",
   "metadata": {},
   "outputs": [],
   "source": [
    "driver.get(link)"
   ]
  },
  {
   "cell_type": "code",
   "execution_count": 235,
   "id": "a8d7379c",
   "metadata": {},
   "outputs": [],
   "source": [
    "soup = BeautifulSoup(driver.page_source,'html.parser')"
   ]
  },
  {
   "cell_type": "code",
   "execution_count": 259,
   "id": "34efaccd",
   "metadata": {},
   "outputs": [],
   "source": [
    "title = soup.find('h1',{'id':'content-title'})"
   ]
  },
  {
   "cell_type": "code",
   "execution_count": 262,
   "id": "c038bea2",
   "metadata": {},
   "outputs": [
    {
     "data": {
      "text/plain": [
       "'2017 Mahindra XUV500W10'"
      ]
     },
     "execution_count": 262,
     "metadata": {},
     "output_type": "execute_result"
    }
   ],
   "source": [
    "title.text.strip()"
   ]
  },
  {
   "cell_type": "code",
   "execution_count": 264,
   "id": "5d4382c8",
   "metadata": {},
   "outputs": [],
   "source": [
    "div = soup.find('div',{'class':'overview-list'})"
   ]
  },
  {
   "cell_type": "code",
   "execution_count": 268,
   "id": "804bd40b",
   "metadata": {},
   "outputs": [
    {
     "name": "stdout",
     "output_type": "stream",
     "text": [
      "{'Car Title': '2017 Mahindra XUV500W10', 'Price': '₹ 9.75 Lakh', 'Year': 'Jun 2017', 'Kilometer': '78,145 km', 'Fuel Type': 'Diesel', 'Transmission': 'Manual', 'Car Available at': 'Ashok Nagar, Ranchi', 'Color': 'Silver', 'Fuel Economy': 'Not Available', 'No. of Owner(s)': 'Third', 'Registered at': 'Not Available', 'Insurance': 'Not Available', 'Registration type': 'Individual', 'Last Updated': '1 month(s) ago'}\n"
     ]
    }
   ],
   "source": [
    "specs = {}\n",
    "specs['Car Title'] = title.text.strip()\n",
    "target = div.find_all('div')\n",
    "for i in range(0,len(target),3):\n",
    "    specs[target[i].text.strip()] = target[i+1].text.strip()\n",
    "print(specs)"
   ]
  },
  {
   "cell_type": "code",
   "execution_count": 252,
   "id": "97a31e90",
   "metadata": {},
   "outputs": [],
   "source": [
    "driver.find_element(By.XPATH,\"//li[text()='Specifications']\").click()"
   ]
  },
  {
   "cell_type": "code",
   "execution_count": 253,
   "id": "ad7059d3",
   "metadata": {},
   "outputs": [],
   "source": [
    "soup = BeautifulSoup(driver.page_source,'html.parser')"
   ]
  },
  {
   "cell_type": "code",
   "execution_count": 254,
   "id": "ca01ed1d",
   "metadata": {},
   "outputs": [],
   "source": [
    "div = soup.find_all('div',{'id':'specifications'})"
   ]
  },
  {
   "cell_type": "code",
   "execution_count": 255,
   "id": "8846787f",
   "metadata": {},
   "outputs": [
    {
     "name": "stdout",
     "output_type": "stream",
     "text": [
      "{'Price': '₹ 9.75 Lakh', 'Year': 'Jun 2017', 'Kilometer': '78,145 km', 'Fuel Type': 'Diesel', 'Transmission': 'Manual - 6 Gears ', 'Car Available at': 'Ashok Nagar, Ranchi', 'Color': 'Silver', 'Fuel Economy': 'Not Available', 'No. of Owner(s)': 'Third', 'Registered at': 'Not Available', 'Insurance': 'Not Available', 'Registration type': 'Individual', 'Last Updated': '1 month(s) ago', 'Engine': '2179 cc, 4 Cylinders Inline, 4 Valves/Cylinder, DOHC ', 'Engine Type': '4 cylinder mHawk CRDe diesel engine ', 'Fuel Type ': 'Diesel ', 'Max Power (bhp@rpm)': '138 bhp @ 3750 rpm ', 'Max Torque (Nm@rpm)': '330 Nm @ 1600 rpm ', 'Mileage (ARAI)': '16 kmpl', 'Drivetrain': 'FWD ', 'Turbocharger/Supercharger': 'Turbocharged ', 'Length': '4585 mm', 'Width': '1890 mm', 'Height': '1785 mm', 'Wheelbase': '2700 mm', 'Ground Clearance': '200 mm', 'Doors': '5 Doors', 'Seating Capacity': '7 Person', 'No of Seating Rows': '3 Rows', 'Fuel Tank Capacity': '70 litres', 'Front Suspension': 'MacPherson type with anti-roll bar ', 'Rear Suspension': 'Multi-link type with anti-roll bar ', 'Front Brake Type': 'Disc ', 'Rear Brake Type': 'Disc ', 'Minimum Turning Radius': '5.6 metres', 'Steering Type': 'Power assisted (Hydraulic) ', 'Wheels': 'Alloy Wheels ', 'Spare Wheel': 'Alloy ', 'Front Tyres': '235 / 65 R17 ', 'Rear Tyres': '235 / 65 R17 '}\n"
     ]
    }
   ],
   "source": [
    "for i in div:\n",
    "    target_div = i.find_all('div',{'class':'description'})\n",
    "    for k in range(len(target_div)):\n",
    "        target = target_div[k].find_all('div',{'class':'property-wrapper'})\n",
    "        for j in range(0,len(target)):\n",
    "            header = str(target[j].text).split('\\n')[0].replace('\\t','')\n",
    "            details = str(target[j].text).split('\\n')[-1].replace('\\t','')\n",
    "            specs[header] = details\n",
    "print(specs)"
   ]
  },
  {
   "cell_type": "code",
   "execution_count": 256,
   "id": "25867853",
   "metadata": {},
   "outputs": [],
   "source": [
    "driver.find_element(By.XPATH,\"//li[text()='Features']\").click()"
   ]
  },
  {
   "cell_type": "code",
   "execution_count": 257,
   "id": "96bf3c60",
   "metadata": {},
   "outputs": [],
   "source": [
    "soup = BeautifulSoup(driver.page_source,'html.parser')\n",
    "div = soup.find_all('div',{'id':'features'})"
   ]
  },
  {
   "cell_type": "code",
   "execution_count": 258,
   "id": "f79e6a04",
   "metadata": {},
   "outputs": [
    {
     "name": "stdout",
     "output_type": "stream",
     "text": [
      "['Tyre Pressure Monitoring System (TPMS)', 'Seat Belt Warning', 'Anti-Lock Braking System (ABS)', 'Electronic Brake-force Distribution (EBD)', 'Brake Assist (BA)', 'Electronic Stability Program (ESP)', 'Hill Hold Control', 'Traction Control System (TC/TCS)', 'Hill Descent Control', 'Engine immobilizer', 'Central Locking', 'Speed Sensing Door Lock', 'Child Safety Lock', 'Air Conditioner', 'Heater', 'Vanity Mirrors on Sun Visors', 'Anti-glare Mirrors', 'Parking Assist', 'Parking Sensors', 'Cruise Control', 'Headlight & Ignition On Reminder', 'Keyless Start/ Button Start', 'Steering Adjustment', '12V Power Outlets', 'Seat Upholstery', 'Leather-wrapped Steering Wheel', 'Leather-wrapped Gear Knob', 'Driver Armrest', 'Rear Passenger Seats Type', '3rd Row Seats Type', 'Interiors', 'Rear Armrest', 'Folding Rear Seat', 'Split Rear Seat', 'Split Third Row Seat', 'Front Seatback Pockets', 'Head-rests', 'Cup Holders', 'Driver Armrest Storage', 'Sunglass Holder', 'Third Row Cup Holders', 'Outside Rear View Mirrors (ORVMs)', 'Power Windows', 'One Touch -Down', 'One Touch - Up', 'Adjustable ORVM', 'Turn Indicators on ORVM', 'Rear Defogger', 'Rear Wiper', 'Exterior Door Handles', 'Rain-sensing Wipers', 'Interior Door Handles', 'Door Pockets', 'Boot-lid Opener', 'Sunroof / Moonroof', 'Roof Mounted Antenna', 'Body-Coloured  Bumpers', 'Headlights', 'Automatic Head Lamps', 'Follow me home headlamps', 'Cornering Headlights', 'Tail Lights', 'Fog Lights', 'Puddle Lamps', 'Cabin Lamps', 'Rear Reading Lamp', 'Headlight Height Adjuster', 'Instrument Cluster', 'Trip Meter', 'Average Fuel Consumption', 'Average Speed', 'Distance to Empty', 'Clock', 'Low Fuel Level Warning', 'Door Ajar Warning', 'Adjustable Cluster Brightness', 'Tachometer', 'Display', 'Integrated (in-dash) Music System', 'Speakers', 'Steering mounted controls', 'Voice Command', 'GPS Navigation System', 'Bluetooth Compatibility', 'Aux Compatibility', 'AM/FM Radio', 'USB Compatibility', 'Head Unit Size', 'iPod Compatibility', 'CD Player', 'DVD Playback']\n"
     ]
    }
   ],
   "source": [
    "all_features = []\n",
    "for i in div:\n",
    "    target_div = i.find_all('div',{'class':'description'})\n",
    "    for k in range(len(target_div)):\n",
    "        target = target_div[k].find_all('div',{'class':'property-wrapper'})\n",
    "        for j in target:\n",
    "            div_final = j.find_all('div')\n",
    "            for l in div_final:\n",
    "                if str(l.text.strip())[0:2]=='No':\n",
    "                    pass\n",
    "                else:\n",
    "                    #print(l.text.strip())\n",
    "                    all_features.append(l.text.strip())\n",
    "print(all_features)\n",
    "                \n",
    "specs['Features'] = all_features"
   ]
  },
  {
   "cell_type": "code",
   "execution_count": 121,
   "id": "07eb5dd1",
   "metadata": {},
   "outputs": [],
   "source": [
    "driver.execute_script(\"window.scrollTo(0, document.body.scrollHeight);\")"
   ]
  },
  {
   "cell_type": "code",
   "execution_count": 1,
   "id": "708ede2e",
   "metadata": {
    "scrolled": true
   },
   "outputs": [
    {
     "name": "stderr",
     "output_type": "stream",
     "text": [
      "C:\\Users\\shubh\\AppData\\Local\\Temp\\ipykernel_12444\\2750782548.py:11: DeprecationWarning: Selenium Tools for Microsoft Edge is deprecated. Please upgrade to Selenium 4 which has built-in support for Microsoft Edge (Chromium): https://docs.microsoft.com/en-us/microsoft-edge/webdriver-chromium/#upgrading-from-selenium-3\n",
      "  driver = Edge(options=options)\n"
     ]
    }
   ],
   "source": [
    "import time\n",
    "import pandas as pd\n",
    "import csv \n",
    "from bs4 import BeautifulSoup\n",
    "from selenium import webdriver\n",
    "from selenium.webdriver.common.by import By\n",
    "from msedge.selenium_tools import Edge, EdgeOptions\n",
    "\n",
    "options  = EdgeOptions()\n",
    "options.use_chromium = True\n",
    "driver = Edge(options=options)\n",
    "\n"
   ]
  },
  {
   "cell_type": "code",
   "execution_count": 2,
   "id": "ad5512f6",
   "metadata": {},
   "outputs": [],
   "source": [
    "def call(url):\n",
    "    driver.get(url)"
   ]
  },
  {
   "cell_type": "code",
   "execution_count": 3,
   "id": "889493c3",
   "metadata": {},
   "outputs": [],
   "source": [
    "# driver.find_element(By.ID,\"closeLocIcon\").click()"
   ]
  },
  {
   "cell_type": "code",
   "execution_count": 64,
   "id": "f4eb7c08",
   "metadata": {},
   "outputs": [],
   "source": [
    "car_id = []\n",
    "car_link = []\n",
    "def get_link():\n",
    "    carcount = 1\n",
    "    for i in range(110):\n",
    "        soup = BeautifulSoup(driver.page_source,'html.parser')\n",
    "        id_ = 'listing'+str(i+1) \n",
    "        soup = soup.find('ul',{'id':id_})\n",
    "        print(len(soup.find_all('li',{'class':'listingContent'})))\n",
    "        for j in range(len(soup.find_all('li',{'class':'listingContent'}))):\n",
    "            car1 = soup.find('li',{'rankabs':carcount})\n",
    "            try:\n",
    "                a = car1.find('a',{'class':'car-item__image-link'})\n",
    "\n",
    "            except:\n",
    "                continue        \n",
    "            link = \"https://www.carwale.com\"+a.get('href')\n",
    "            car_id.append(carcount)\n",
    "            car_link.append(link)\n",
    "            print('car '+str(carcount),end = ' ')\n",
    "            carcount += 1\n",
    "        driver.execute_script(\"window.scrollTo(0, document.body.scrollHeight);\")\n",
    "        time.sleep(5)\n",
    "        print('Page '+str(i)+\" Done\")\n",
    "    "
   ]
  },
  {
   "cell_type": "code",
   "execution_count": 65,
   "id": "211f3f3f",
   "metadata": {},
   "outputs": [],
   "source": [
    "call(\"https://www.carwale.com/used/cars-for-sale/#sc=-1&so=-1&city=221&pc=221\")"
   ]
  },
  {
   "cell_type": "code",
   "execution_count": 66,
   "id": "916a6b44",
   "metadata": {},
   "outputs": [
    {
     "name": "stdout",
     "output_type": "stream",
     "text": [
      "31\n",
      "car 1 car 2 car 3 car 4 car 5 car 6 car 7 car 8 car 9 car 10 car 11 car 12 car 13 car 14 car 15 car 16 car 17 car 18 car 19 car 20 car 21 car 22 car 23 car 24 car 25 car 26 car 27 car 28 car 29 car 30 car 31 Page 0 Done\n",
      "24\n",
      "car 32 car 33 car 34 car 35 car 36 car 37 car 38 car 39 car 40 car 41 car 42 car 43 car 44 car 45 car 46 car 47 car 48 car 49 car 50 car 51 car 52 car 53 car 54 car 55 Page 1 Done\n",
      "24\n",
      "car 56 car 57 car 58 car 59 car 60 car 61 car 62 car 63 car 64 car 65 car 66 car 67 car 68 car 69 car 70 car 71 car 72 car 73 car 74 car 75 car 76 car 77 car 78 car 79 Page 2 Done\n",
      "24\n",
      "car 80 car 81 car 82 car 83 car 84 car 85 car 86 car 87 car 88 car 89 car 90 car 91 car 92 car 93 car 94 car 95 car 96 car 97 car 98 car 99 car 100 car 101 car 102 car 103 Page 3 Done\n",
      "24\n",
      "car 104 car 105 car 106 car 107 car 108 car 109 car 110 car 111 car 112 car 113 car 114 car 115 car 116 car 117 car 118 car 119 car 120 car 121 car 122 car 123 car 124 car 125 car 126 car 127 Page 4 Done\n",
      "24\n",
      "car 128 car 129 car 130 car 131 car 132 car 133 car 134 car 135 car 136 car 137 car 138 car 139 car 140 car 141 car 142 car 143 car 144 car 145 car 146 car 147 car 148 car 149 car 150 car 151 Page 5 Done\n",
      "24\n",
      "car 152 car 153 car 154 car 155 car 156 car 157 car 158 car 159 car 160 car 161 car 162 car 163 car 164 car 165 car 166 car 167 car 168 car 169 car 170 car 171 car 172 car 173 car 174 car 175 Page 6 Done\n",
      "24\n",
      "car 176 car 177 car 178 car 179 car 180 car 181 car 182 car 183 car 184 car 185 car 186 car 187 car 188 car 189 car 190 car 191 car 192 car 193 car 194 car 195 car 196 car 197 car 198 car 199 Page 7 Done\n",
      "24\n",
      "car 200 car 201 car 202 car 203 car 204 car 205 car 206 car 207 car 208 car 209 car 210 car 211 car 212 car 213 car 214 car 215 car 216 car 217 car 218 car 219 car 220 car 221 car 222 car 223 Page 8 Done\n",
      "24\n",
      "car 224 car 225 car 226 car 227 car 228 car 229 car 230 car 231 car 232 car 233 car 234 car 235 car 236 car 237 car 238 car 239 car 240 car 241 car 242 car 243 car 244 car 245 car 246 car 247 Page 9 Done\n"
     ]
    },
    {
     "ename": "AttributeError",
     "evalue": "'NoneType' object has no attribute 'find_all'",
     "output_type": "error",
     "traceback": [
      "\u001b[1;31m---------------------------------------------------------------------------\u001b[0m",
      "\u001b[1;31mAttributeError\u001b[0m                            Traceback (most recent call last)",
      "Input \u001b[1;32mIn [66]\u001b[0m, in \u001b[0;36m<module>\u001b[1;34m\u001b[0m\n\u001b[1;32m----> 1\u001b[0m \u001b[43mget_link\u001b[49m\u001b[43m(\u001b[49m\u001b[43m)\u001b[49m\n",
      "Input \u001b[1;32mIn [64]\u001b[0m, in \u001b[0;36mget_link\u001b[1;34m()\u001b[0m\n\u001b[0;32m      7\u001b[0m id_ \u001b[38;5;241m=\u001b[39m \u001b[38;5;124m'\u001b[39m\u001b[38;5;124mlisting\u001b[39m\u001b[38;5;124m'\u001b[39m\u001b[38;5;241m+\u001b[39m\u001b[38;5;28mstr\u001b[39m(i\u001b[38;5;241m+\u001b[39m\u001b[38;5;241m1\u001b[39m) \n\u001b[0;32m      8\u001b[0m soup \u001b[38;5;241m=\u001b[39m soup\u001b[38;5;241m.\u001b[39mfind(\u001b[38;5;124m'\u001b[39m\u001b[38;5;124mul\u001b[39m\u001b[38;5;124m'\u001b[39m,{\u001b[38;5;124m'\u001b[39m\u001b[38;5;124mid\u001b[39m\u001b[38;5;124m'\u001b[39m:id_})\n\u001b[1;32m----> 9\u001b[0m \u001b[38;5;28mprint\u001b[39m(\u001b[38;5;28mlen\u001b[39m(\u001b[43msoup\u001b[49m\u001b[38;5;241;43m.\u001b[39;49m\u001b[43mfind_all\u001b[49m(\u001b[38;5;124m'\u001b[39m\u001b[38;5;124mli\u001b[39m\u001b[38;5;124m'\u001b[39m,{\u001b[38;5;124m'\u001b[39m\u001b[38;5;124mclass\u001b[39m\u001b[38;5;124m'\u001b[39m:\u001b[38;5;124m'\u001b[39m\u001b[38;5;124mlistingContent\u001b[39m\u001b[38;5;124m'\u001b[39m})))\n\u001b[0;32m     10\u001b[0m \u001b[38;5;28;01mfor\u001b[39;00m j \u001b[38;5;129;01min\u001b[39;00m \u001b[38;5;28mrange\u001b[39m(\u001b[38;5;28mlen\u001b[39m(soup\u001b[38;5;241m.\u001b[39mfind_all(\u001b[38;5;124m'\u001b[39m\u001b[38;5;124mli\u001b[39m\u001b[38;5;124m'\u001b[39m,{\u001b[38;5;124m'\u001b[39m\u001b[38;5;124mclass\u001b[39m\u001b[38;5;124m'\u001b[39m:\u001b[38;5;124m'\u001b[39m\u001b[38;5;124mlistingContent\u001b[39m\u001b[38;5;124m'\u001b[39m}))):\n\u001b[0;32m     11\u001b[0m     car1 \u001b[38;5;241m=\u001b[39m soup\u001b[38;5;241m.\u001b[39mfind(\u001b[38;5;124m'\u001b[39m\u001b[38;5;124mli\u001b[39m\u001b[38;5;124m'\u001b[39m,{\u001b[38;5;124m'\u001b[39m\u001b[38;5;124mrankabs\u001b[39m\u001b[38;5;124m'\u001b[39m:carcount})\n",
      "\u001b[1;31mAttributeError\u001b[0m: 'NoneType' object has no attribute 'find_all'"
     ]
    }
   ],
   "source": [
    "get_link()"
   ]
  },
  {
   "cell_type": "code",
   "execution_count": 67,
   "id": "304c3df5",
   "metadata": {},
   "outputs": [],
   "source": [
    "d = {'id':car_id,'link':car_link}\n",
    "df = pd.DataFrame(d)"
   ]
  },
  {
   "cell_type": "code",
   "execution_count": 68,
   "id": "fea420aa",
   "metadata": {},
   "outputs": [],
   "source": [
    "df.to_csv('Aagra_car_links.csv')"
   ]
  },
  {
   "cell_type": "code",
   "execution_count": null,
   "id": "86778eac",
   "metadata": {},
   "outputs": [],
   "source": []
  }
 ],
 "metadata": {
  "kernelspec": {
   "display_name": "Python 3 (ipykernel)",
   "language": "python",
   "name": "python3"
  },
  "language_info": {
   "codemirror_mode": {
    "name": "ipython",
    "version": 3
   },
   "file_extension": ".py",
   "mimetype": "text/x-python",
   "name": "python",
   "nbconvert_exporter": "python",
   "pygments_lexer": "ipython3",
   "version": "3.9.13"
  }
 },
 "nbformat": 4,
 "nbformat_minor": 5
}
